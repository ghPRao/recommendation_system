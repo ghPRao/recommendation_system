{
 "cells": [
  {
   "cell_type": "markdown",
   "metadata": {},
   "source": [
    "# Movie Recommendation Model"
   ]
  },
  {
   "cell_type": "code",
   "execution_count": 1,
   "metadata": {},
   "outputs": [],
   "source": [
    "import pandas as pd\n",
    "import numpy as np\n",
    "\n",
    "import gzip\n",
    "import json\n",
    "\n",
    "%load_ext autoreload\n",
    "%autoreload 2"
   ]
  },
  {
   "cell_type": "markdown",
   "metadata": {},
   "source": [
    "## Import Data"
   ]
  },
  {
   "cell_type": "code",
   "execution_count": 2,
   "metadata": {},
   "outputs": [],
   "source": [
    "# !wget -P ../../data/meta_Movies_and_TV.json.gz http://deepyeti.ucsd.edu/jianmo/amazon/metaFiles/meta_Movies_and_TV.json.gz\n",
    "# !wget -P ../../data/Movies_and_TV.json.gz http://deepyeti.ucsd.edu/jianmo/amazon/categoryFiles/Movies_and_TV.json.gz\n",
    "# !gzip -d  ../../data/meta_Movies_and_TV.json.gz\n",
    "#  !gzip -d  ../../data/Movies_and_TV.json.gz\n",
    "# !mv meta_Movies_and_TV.json ../../data\n",
    "# !mv mMovies_and_TV.json ../../data"
   ]
  },
  {
   "cell_type": "markdown",
   "metadata": {},
   "source": [
    "## Read Metafile "
   ]
  },
  {
   "cell_type": "code",
   "execution_count": 3,
   "metadata": {},
   "outputs": [
    {
     "name": "stdout",
     "output_type": "stream",
     "text": [
      "203766\n",
      "{'category': ['Movies & TV', 'Movies'], 'tech1': '', 'description': [], 'fit': '', 'title': 'Understanding Seizures and Epilepsy', 'also_buy': [], 'image': [], 'tech2': '', 'brand': '', 'feature': [], 'rank': '886,503 in Movies & TV (', 'also_view': [], 'main_cat': 'Movies & TV', 'similar_item': '', 'date': '', 'price': '', 'asin': '0000695009'}\n"
     ]
    }
   ],
   "source": [
    "# open the json.gz file for meta dataset\n",
    "data_meta = []\n",
    "with gzip.open('../../data/meta_Movies_and_TV.json.gz/meta_Movies_and_TV.json.gz') as f:\n",
    "    for line in f:\n",
    "        data_meta.append(json.loads(line.strip()))\n",
    "    \n",
    "# total length of list, this number equals total number of products\n",
    "print(len(data_meta))\n",
    "\n",
    "# first row of the list\n",
    "print(data_meta[0])"
   ]
  },
  {
   "cell_type": "markdown",
   "metadata": {},
   "source": [
    "## Data Preparation"
   ]
  },
  {
   "cell_type": "code",
   "execution_count": 4,
   "metadata": {},
   "outputs": [
    {
     "name": "stdout",
     "output_type": "stream",
     "text": [
      "240255\n"
     ]
    }
   ],
   "source": [
    "# open the json.gz file for meta dataset\n",
    "mtv_data = []\n",
    "with gzip.open(f'../../data/Movies_and_TV.json.gz/Movies_and_TV.json.gz') as f:\n",
    "    for line in f:\n",
    "        df = json.loads(line.strip())\n",
    "#         if (df['reviewTime'].endswith('2016') |\n",
    "#            df['reviewTime'].endswith('2017') |\n",
    "#             df['reviewTime'].endswith('2018')):\n",
    "        if df['reviewTime'].endswith('2018'):\n",
    "            mtv_data.append(df)\n",
    "        else:\n",
    "            continue\n",
    "    # Number of records selected\n",
    "    print(len(mtv_data))"
   ]
  },
  {
   "cell_type": "markdown",
   "metadata": {},
   "source": [
    "#### Create dataframes from the data just read"
   ]
  },
  {
   "cell_type": "code",
   "execution_count": 5,
   "metadata": {},
   "outputs": [],
   "source": [
    "# Create a dataframe from the dictionary\n",
    "df_mtv = pd.DataFrame(mtv_data)\n",
    "df_mtv = df_mtv.drop('image', axis=1)\n",
    "df_mtv = df_mtv[df_mtv['verified']==True]"
   ]
  },
  {
   "cell_type": "code",
   "execution_count": 6,
   "metadata": {},
   "outputs": [],
   "source": [
    "# convert data_meta to df\n",
    "df_meta = pd.DataFrame.from_dict(data_meta)\n",
    "\n",
    "# drop useless columns\n",
    "df_meta = df_meta.dropna(subset=['details'])\n",
    "df_meta = df_meta.drop(['image', 'feature', 'date', 'tech1'], axis=1)"
   ]
  },
  {
   "cell_type": "code",
   "execution_count": 7,
   "metadata": {},
   "outputs": [],
   "source": [
    "df_mtv_meta = df_mtv.merge(df_meta, on='asin', how='inner')"
   ]
  },
  {
   "cell_type": "markdown",
   "metadata": {},
   "source": [
    "## Create a csv file for further exploration.\n",
    "\n",
    "Because the data file is fairly large, I am storing the selected fields in a csv file."
   ]
  },
  {
   "cell_type": "code",
   "execution_count": 8,
   "metadata": {},
   "outputs": [],
   "source": [
    "df_mtv_meta.to_csv('../../data/mtv_meta.csv', index=False)"
   ]
  },
  {
   "cell_type": "code",
   "execution_count": null,
   "metadata": {},
   "outputs": [],
   "source": []
  }
 ],
 "metadata": {
  "kernelspec": {
   "display_name": "Python 3",
   "language": "python",
   "name": "python3"
  },
  "language_info": {
   "codemirror_mode": {
    "name": "ipython",
    "version": 3
   },
   "file_extension": ".py",
   "mimetype": "text/x-python",
   "name": "python",
   "nbconvert_exporter": "python",
   "pygments_lexer": "ipython3",
   "version": "3.8.5"
  }
 },
 "nbformat": 4,
 "nbformat_minor": 4
}
