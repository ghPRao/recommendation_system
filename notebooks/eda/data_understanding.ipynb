{
 "cells": [
  {
   "cell_type": "markdown",
   "metadata": {},
   "source": [
    "# Data Exploration "
   ]
  },
  {
   "cell_type": "code",
   "execution_count": 69,
   "metadata": {},
   "outputs": [],
   "source": [
    "import pandas as pd\n",
    "import matplotlib.pyplot as plt\n",
    "from collections import Counter"
   ]
  },
  {
   "cell_type": "markdown",
   "metadata": {},
   "source": [
    "## Import Data"
   ]
  },
  {
   "cell_type": "code",
   "execution_count": 70,
   "metadata": {},
   "outputs": [
    {
     "data": {
      "text/html": [
       "<div>\n",
       "<style scoped>\n",
       "    .dataframe tbody tr th:only-of-type {\n",
       "        vertical-align: middle;\n",
       "    }\n",
       "\n",
       "    .dataframe tbody tr th {\n",
       "        vertical-align: top;\n",
       "    }\n",
       "\n",
       "    .dataframe thead th {\n",
       "        text-align: right;\n",
       "    }\n",
       "</style>\n",
       "<table border=\"1\" class=\"dataframe\">\n",
       "  <thead>\n",
       "    <tr style=\"text-align: right;\">\n",
       "      <th></th>\n",
       "      <th>overall</th>\n",
       "      <th>verified</th>\n",
       "      <th>reviewTime</th>\n",
       "      <th>reviewerID</th>\n",
       "      <th>asin</th>\n",
       "      <th>style</th>\n",
       "      <th>reviewerName</th>\n",
       "      <th>reviewText</th>\n",
       "      <th>summary</th>\n",
       "      <th>unixReviewTime</th>\n",
       "      <th>...</th>\n",
       "      <th>title</th>\n",
       "      <th>also_buy</th>\n",
       "      <th>tech2</th>\n",
       "      <th>brand</th>\n",
       "      <th>rank</th>\n",
       "      <th>also_view</th>\n",
       "      <th>main_cat</th>\n",
       "      <th>similar_item</th>\n",
       "      <th>price</th>\n",
       "      <th>details</th>\n",
       "    </tr>\n",
       "  </thead>\n",
       "  <tbody>\n",
       "    <tr>\n",
       "      <th>0</th>\n",
       "      <td>5.0</td>\n",
       "      <td>True</td>\n",
       "      <td>04 8, 2018</td>\n",
       "      <td>A1CW3NLH9MBQRY</td>\n",
       "      <td>6303022901</td>\n",
       "      <td>{'Format:': ' DVD'}</td>\n",
       "      <td>Sally Nunez</td>\n",
       "      <td>I really enjoyed this movie. Brings tears to m...</td>\n",
       "      <td>Five Stars</td>\n",
       "      <td>1523145600</td>\n",
       "      <td>...</td>\n",
       "      <td>The Joy Luck Club VHS</td>\n",
       "      <td>[]</td>\n",
       "      <td>NaN</td>\n",
       "      <td>Tamlyn Tomita</td>\n",
       "      <td>295,699 in Movies &amp; TV (</td>\n",
       "      <td>[]</td>\n",
       "      <td>Movies &amp; TV</td>\n",
       "      <td>NaN</td>\n",
       "      <td>$3.28</td>\n",
       "      <td>{'ASIN: ': '6303022901'}</td>\n",
       "    </tr>\n",
       "    <tr>\n",
       "      <th>1</th>\n",
       "      <td>5.0</td>\n",
       "      <td>True</td>\n",
       "      <td>04 2, 2018</td>\n",
       "      <td>A1WK0IRZ08NX9X</td>\n",
       "      <td>6303022901</td>\n",
       "      <td>{'Format:': ' DVD'}</td>\n",
       "      <td>Ammie28</td>\n",
       "      <td>If you have never seen this movie, you may jus...</td>\n",
       "      <td>Heart Touching...</td>\n",
       "      <td>1522627200</td>\n",
       "      <td>...</td>\n",
       "      <td>The Joy Luck Club VHS</td>\n",
       "      <td>[]</td>\n",
       "      <td>NaN</td>\n",
       "      <td>Tamlyn Tomita</td>\n",
       "      <td>295,699 in Movies &amp; TV (</td>\n",
       "      <td>[]</td>\n",
       "      <td>Movies &amp; TV</td>\n",
       "      <td>NaN</td>\n",
       "      <td>$3.28</td>\n",
       "      <td>{'ASIN: ': '6303022901'}</td>\n",
       "    </tr>\n",
       "    <tr>\n",
       "      <th>2</th>\n",
       "      <td>5.0</td>\n",
       "      <td>True</td>\n",
       "      <td>03 30, 2018</td>\n",
       "      <td>A2HGXJQCQTXE4E</td>\n",
       "      <td>6303022901</td>\n",
       "      <td>{'Format:': ' Blu-ray'}</td>\n",
       "      <td>Pa nhia lee</td>\n",
       "      <td>awesome all time fave movie.</td>\n",
       "      <td>Five Stars</td>\n",
       "      <td>1522368000</td>\n",
       "      <td>...</td>\n",
       "      <td>The Joy Luck Club VHS</td>\n",
       "      <td>[]</td>\n",
       "      <td>NaN</td>\n",
       "      <td>Tamlyn Tomita</td>\n",
       "      <td>295,699 in Movies &amp; TV (</td>\n",
       "      <td>[]</td>\n",
       "      <td>Movies &amp; TV</td>\n",
       "      <td>NaN</td>\n",
       "      <td>$3.28</td>\n",
       "      <td>{'ASIN: ': '6303022901'}</td>\n",
       "    </tr>\n",
       "    <tr>\n",
       "      <th>3</th>\n",
       "      <td>5.0</td>\n",
       "      <td>True</td>\n",
       "      <td>03 30, 2018</td>\n",
       "      <td>A14ASTA78EK120</td>\n",
       "      <td>6303022901</td>\n",
       "      <td>{'Format:': ' DVD'}</td>\n",
       "      <td>lalush</td>\n",
       "      <td>The greatest movie ever!!!!!</td>\n",
       "      <td>Five Stars</td>\n",
       "      <td>1522368000</td>\n",
       "      <td>...</td>\n",
       "      <td>The Joy Luck Club VHS</td>\n",
       "      <td>[]</td>\n",
       "      <td>NaN</td>\n",
       "      <td>Tamlyn Tomita</td>\n",
       "      <td>295,699 in Movies &amp; TV (</td>\n",
       "      <td>[]</td>\n",
       "      <td>Movies &amp; TV</td>\n",
       "      <td>NaN</td>\n",
       "      <td>$3.28</td>\n",
       "      <td>{'ASIN: ': '6303022901'}</td>\n",
       "    </tr>\n",
       "    <tr>\n",
       "      <th>4</th>\n",
       "      <td>5.0</td>\n",
       "      <td>True</td>\n",
       "      <td>03 29, 2018</td>\n",
       "      <td>A2EGT1RXKVOXTJ</td>\n",
       "      <td>6303022901</td>\n",
       "      <td>{'Format:': ' Amazon Video'}</td>\n",
       "      <td>Karin</td>\n",
       "      <td>Love this movie</td>\n",
       "      <td>Five Stars</td>\n",
       "      <td>1522281600</td>\n",
       "      <td>...</td>\n",
       "      <td>The Joy Luck Club VHS</td>\n",
       "      <td>[]</td>\n",
       "      <td>NaN</td>\n",
       "      <td>Tamlyn Tomita</td>\n",
       "      <td>295,699 in Movies &amp; TV (</td>\n",
       "      <td>[]</td>\n",
       "      <td>Movies &amp; TV</td>\n",
       "      <td>NaN</td>\n",
       "      <td>$3.28</td>\n",
       "      <td>{'ASIN: ': '6303022901'}</td>\n",
       "    </tr>\n",
       "  </tbody>\n",
       "</table>\n",
       "<p>5 rows × 24 columns</p>\n",
       "</div>"
      ],
      "text/plain": [
       "   overall  verified   reviewTime      reviewerID        asin  \\\n",
       "0      5.0      True   04 8, 2018  A1CW3NLH9MBQRY  6303022901   \n",
       "1      5.0      True   04 2, 2018  A1WK0IRZ08NX9X  6303022901   \n",
       "2      5.0      True  03 30, 2018  A2HGXJQCQTXE4E  6303022901   \n",
       "3      5.0      True  03 30, 2018  A14ASTA78EK120  6303022901   \n",
       "4      5.0      True  03 29, 2018  A2EGT1RXKVOXTJ  6303022901   \n",
       "\n",
       "                          style reviewerName  \\\n",
       "0           {'Format:': ' DVD'}  Sally Nunez   \n",
       "1           {'Format:': ' DVD'}      Ammie28   \n",
       "2       {'Format:': ' Blu-ray'}  Pa nhia lee   \n",
       "3           {'Format:': ' DVD'}       lalush   \n",
       "4  {'Format:': ' Amazon Video'}       Karin    \n",
       "\n",
       "                                          reviewText            summary  \\\n",
       "0  I really enjoyed this movie. Brings tears to m...         Five Stars   \n",
       "1  If you have never seen this movie, you may jus...  Heart Touching...   \n",
       "2                       awesome all time fave movie.         Five Stars   \n",
       "3                       The greatest movie ever!!!!!         Five Stars   \n",
       "4                                    Love this movie         Five Stars   \n",
       "\n",
       "   unixReviewTime  ...                  title also_buy tech2          brand  \\\n",
       "0      1523145600  ...  The Joy Luck Club VHS       []   NaN  Tamlyn Tomita   \n",
       "1      1522627200  ...  The Joy Luck Club VHS       []   NaN  Tamlyn Tomita   \n",
       "2      1522368000  ...  The Joy Luck Club VHS       []   NaN  Tamlyn Tomita   \n",
       "3      1522368000  ...  The Joy Luck Club VHS       []   NaN  Tamlyn Tomita   \n",
       "4      1522281600  ...  The Joy Luck Club VHS       []   NaN  Tamlyn Tomita   \n",
       "\n",
       "                       rank also_view     main_cat similar_item  price  \\\n",
       "0  295,699 in Movies & TV (        []  Movies & TV          NaN  $3.28   \n",
       "1  295,699 in Movies & TV (        []  Movies & TV          NaN  $3.28   \n",
       "2  295,699 in Movies & TV (        []  Movies & TV          NaN  $3.28   \n",
       "3  295,699 in Movies & TV (        []  Movies & TV          NaN  $3.28   \n",
       "4  295,699 in Movies & TV (        []  Movies & TV          NaN  $3.28   \n",
       "\n",
       "                    details  \n",
       "0  {'ASIN: ': '6303022901'}  \n",
       "1  {'ASIN: ': '6303022901'}  \n",
       "2  {'ASIN: ': '6303022901'}  \n",
       "3  {'ASIN: ': '6303022901'}  \n",
       "4  {'ASIN: ': '6303022901'}  \n",
       "\n",
       "[5 rows x 24 columns]"
      ]
     },
     "execution_count": 70,
     "metadata": {},
     "output_type": "execute_result"
    }
   ],
   "source": [
    "df_mtv = pd.read_csv(\"../../data/mtv_meta.csv\")\n",
    "df_mtv.head()"
   ]
  },
  {
   "cell_type": "code",
   "execution_count": 71,
   "metadata": {},
   "outputs": [
    {
     "name": "stdout",
     "output_type": "stream",
     "text": [
      "<class 'pandas.core.frame.DataFrame'>\n",
      "RangeIndex: 209056 entries, 0 to 209055\n",
      "Data columns (total 24 columns):\n",
      " #   Column          Non-Null Count   Dtype  \n",
      "---  ------          --------------   -----  \n",
      " 0   overall         209056 non-null  float64\n",
      " 1   verified        209056 non-null  bool   \n",
      " 2   reviewTime      209056 non-null  object \n",
      " 3   reviewerID      209056 non-null  object \n",
      " 4   asin            209056 non-null  object \n",
      " 5   style           197666 non-null  object \n",
      " 6   reviewerName    209032 non-null  object \n",
      " 7   reviewText      208824 non-null  object \n",
      " 8   summary         208906 non-null  object \n",
      " 9   unixReviewTime  209056 non-null  int64  \n",
      " 10  vote            5138 non-null    float64\n",
      " 11  category        209056 non-null  object \n",
      " 12  description     209056 non-null  object \n",
      " 13  fit             0 non-null       float64\n",
      " 14  title           209051 non-null  object \n",
      " 15  also_buy        209056 non-null  object \n",
      " 16  tech2           0 non-null       float64\n",
      " 17  brand           170942 non-null  object \n",
      " 18  rank            209056 non-null  object \n",
      " 19  also_view       209056 non-null  object \n",
      " 20  main_cat        209036 non-null  object \n",
      " 21  similar_item    0 non-null       float64\n",
      " 22  price           155159 non-null  object \n",
      " 23  details         209056 non-null  object \n",
      "dtypes: bool(1), float64(5), int64(1), object(17)\n",
      "memory usage: 36.9+ MB\n"
     ]
    }
   ],
   "source": [
    "df_mtv.info()"
   ]
  },
  {
   "cell_type": "code",
   "execution_count": 72,
   "metadata": {},
   "outputs": [],
   "source": [
    "df_mtv = df_mtv.drop(['verified', 'rank', 'also_buy', 'also_view', 'details'], axis=1)\n",
    "\n",
    "df_mtv = df_mtv.rename(columns={'overall':'rating', 'asin':'productID'})"
   ]
  },
  {
   "cell_type": "code",
   "execution_count": 73,
   "metadata": {},
   "outputs": [
    {
     "data": {
      "text/plain": [
       "(209056, 19)"
      ]
     },
     "execution_count": 73,
     "metadata": {},
     "output_type": "execute_result"
    }
   ],
   "source": [
    "df_mtv.shape"
   ]
  },
  {
   "cell_type": "code",
   "execution_count": 74,
   "metadata": {},
   "outputs": [
    {
     "data": {
      "text/html": [
       "<div>\n",
       "<style scoped>\n",
       "    .dataframe tbody tr th:only-of-type {\n",
       "        vertical-align: middle;\n",
       "    }\n",
       "\n",
       "    .dataframe tbody tr th {\n",
       "        vertical-align: top;\n",
       "    }\n",
       "\n",
       "    .dataframe thead th {\n",
       "        text-align: right;\n",
       "    }\n",
       "</style>\n",
       "<table border=\"1\" class=\"dataframe\">\n",
       "  <thead>\n",
       "    <tr style=\"text-align: right;\">\n",
       "      <th></th>\n",
       "      <th>rating</th>\n",
       "      <th>reviewTime</th>\n",
       "      <th>reviewerID</th>\n",
       "      <th>productID</th>\n",
       "      <th>style</th>\n",
       "      <th>reviewerName</th>\n",
       "      <th>reviewText</th>\n",
       "      <th>summary</th>\n",
       "      <th>unixReviewTime</th>\n",
       "      <th>vote</th>\n",
       "      <th>category</th>\n",
       "      <th>description</th>\n",
       "      <th>fit</th>\n",
       "      <th>title</th>\n",
       "      <th>tech2</th>\n",
       "      <th>brand</th>\n",
       "      <th>main_cat</th>\n",
       "      <th>similar_item</th>\n",
       "      <th>price</th>\n",
       "    </tr>\n",
       "  </thead>\n",
       "  <tbody>\n",
       "    <tr>\n",
       "      <th>0</th>\n",
       "      <td>5.0</td>\n",
       "      <td>04 8, 2018</td>\n",
       "      <td>A1CW3NLH9MBQRY</td>\n",
       "      <td>6303022901</td>\n",
       "      <td>{'Format:': ' DVD'}</td>\n",
       "      <td>Sally Nunez</td>\n",
       "      <td>I really enjoyed this movie. Brings tears to m...</td>\n",
       "      <td>Five Stars</td>\n",
       "      <td>1523145600</td>\n",
       "      <td>NaN</td>\n",
       "      <td>['Movies &amp; TV', 'Genre for Featured Categories...</td>\n",
       "      <td>['Produced by Academy Award(R)-winning filmmak...</td>\n",
       "      <td>NaN</td>\n",
       "      <td>The Joy Luck Club VHS</td>\n",
       "      <td>NaN</td>\n",
       "      <td>Tamlyn Tomita</td>\n",
       "      <td>Movies &amp; TV</td>\n",
       "      <td>NaN</td>\n",
       "      <td>$3.28</td>\n",
       "    </tr>\n",
       "    <tr>\n",
       "      <th>1</th>\n",
       "      <td>5.0</td>\n",
       "      <td>04 2, 2018</td>\n",
       "      <td>A1WK0IRZ08NX9X</td>\n",
       "      <td>6303022901</td>\n",
       "      <td>{'Format:': ' DVD'}</td>\n",
       "      <td>Ammie28</td>\n",
       "      <td>If you have never seen this movie, you may jus...</td>\n",
       "      <td>Heart Touching...</td>\n",
       "      <td>1522627200</td>\n",
       "      <td>NaN</td>\n",
       "      <td>['Movies &amp; TV', 'Genre for Featured Categories...</td>\n",
       "      <td>['Produced by Academy Award(R)-winning filmmak...</td>\n",
       "      <td>NaN</td>\n",
       "      <td>The Joy Luck Club VHS</td>\n",
       "      <td>NaN</td>\n",
       "      <td>Tamlyn Tomita</td>\n",
       "      <td>Movies &amp; TV</td>\n",
       "      <td>NaN</td>\n",
       "      <td>$3.28</td>\n",
       "    </tr>\n",
       "    <tr>\n",
       "      <th>2</th>\n",
       "      <td>5.0</td>\n",
       "      <td>03 30, 2018</td>\n",
       "      <td>A2HGXJQCQTXE4E</td>\n",
       "      <td>6303022901</td>\n",
       "      <td>{'Format:': ' Blu-ray'}</td>\n",
       "      <td>Pa nhia lee</td>\n",
       "      <td>awesome all time fave movie.</td>\n",
       "      <td>Five Stars</td>\n",
       "      <td>1522368000</td>\n",
       "      <td>NaN</td>\n",
       "      <td>['Movies &amp; TV', 'Genre for Featured Categories...</td>\n",
       "      <td>['Produced by Academy Award(R)-winning filmmak...</td>\n",
       "      <td>NaN</td>\n",
       "      <td>The Joy Luck Club VHS</td>\n",
       "      <td>NaN</td>\n",
       "      <td>Tamlyn Tomita</td>\n",
       "      <td>Movies &amp; TV</td>\n",
       "      <td>NaN</td>\n",
       "      <td>$3.28</td>\n",
       "    </tr>\n",
       "    <tr>\n",
       "      <th>3</th>\n",
       "      <td>5.0</td>\n",
       "      <td>03 30, 2018</td>\n",
       "      <td>A14ASTA78EK120</td>\n",
       "      <td>6303022901</td>\n",
       "      <td>{'Format:': ' DVD'}</td>\n",
       "      <td>lalush</td>\n",
       "      <td>The greatest movie ever!!!!!</td>\n",
       "      <td>Five Stars</td>\n",
       "      <td>1522368000</td>\n",
       "      <td>NaN</td>\n",
       "      <td>['Movies &amp; TV', 'Genre for Featured Categories...</td>\n",
       "      <td>['Produced by Academy Award(R)-winning filmmak...</td>\n",
       "      <td>NaN</td>\n",
       "      <td>The Joy Luck Club VHS</td>\n",
       "      <td>NaN</td>\n",
       "      <td>Tamlyn Tomita</td>\n",
       "      <td>Movies &amp; TV</td>\n",
       "      <td>NaN</td>\n",
       "      <td>$3.28</td>\n",
       "    </tr>\n",
       "    <tr>\n",
       "      <th>4</th>\n",
       "      <td>5.0</td>\n",
       "      <td>03 29, 2018</td>\n",
       "      <td>A2EGT1RXKVOXTJ</td>\n",
       "      <td>6303022901</td>\n",
       "      <td>{'Format:': ' Amazon Video'}</td>\n",
       "      <td>Karin</td>\n",
       "      <td>Love this movie</td>\n",
       "      <td>Five Stars</td>\n",
       "      <td>1522281600</td>\n",
       "      <td>NaN</td>\n",
       "      <td>['Movies &amp; TV', 'Genre for Featured Categories...</td>\n",
       "      <td>['Produced by Academy Award(R)-winning filmmak...</td>\n",
       "      <td>NaN</td>\n",
       "      <td>The Joy Luck Club VHS</td>\n",
       "      <td>NaN</td>\n",
       "      <td>Tamlyn Tomita</td>\n",
       "      <td>Movies &amp; TV</td>\n",
       "      <td>NaN</td>\n",
       "      <td>$3.28</td>\n",
       "    </tr>\n",
       "  </tbody>\n",
       "</table>\n",
       "</div>"
      ],
      "text/plain": [
       "   rating   reviewTime      reviewerID   productID  \\\n",
       "0     5.0   04 8, 2018  A1CW3NLH9MBQRY  6303022901   \n",
       "1     5.0   04 2, 2018  A1WK0IRZ08NX9X  6303022901   \n",
       "2     5.0  03 30, 2018  A2HGXJQCQTXE4E  6303022901   \n",
       "3     5.0  03 30, 2018  A14ASTA78EK120  6303022901   \n",
       "4     5.0  03 29, 2018  A2EGT1RXKVOXTJ  6303022901   \n",
       "\n",
       "                          style reviewerName  \\\n",
       "0           {'Format:': ' DVD'}  Sally Nunez   \n",
       "1           {'Format:': ' DVD'}      Ammie28   \n",
       "2       {'Format:': ' Blu-ray'}  Pa nhia lee   \n",
       "3           {'Format:': ' DVD'}       lalush   \n",
       "4  {'Format:': ' Amazon Video'}       Karin    \n",
       "\n",
       "                                          reviewText            summary  \\\n",
       "0  I really enjoyed this movie. Brings tears to m...         Five Stars   \n",
       "1  If you have never seen this movie, you may jus...  Heart Touching...   \n",
       "2                       awesome all time fave movie.         Five Stars   \n",
       "3                       The greatest movie ever!!!!!         Five Stars   \n",
       "4                                    Love this movie         Five Stars   \n",
       "\n",
       "   unixReviewTime  vote                                           category  \\\n",
       "0      1523145600   NaN  ['Movies & TV', 'Genre for Featured Categories...   \n",
       "1      1522627200   NaN  ['Movies & TV', 'Genre for Featured Categories...   \n",
       "2      1522368000   NaN  ['Movies & TV', 'Genre for Featured Categories...   \n",
       "3      1522368000   NaN  ['Movies & TV', 'Genre for Featured Categories...   \n",
       "4      1522281600   NaN  ['Movies & TV', 'Genre for Featured Categories...   \n",
       "\n",
       "                                         description  fit  \\\n",
       "0  ['Produced by Academy Award(R)-winning filmmak...  NaN   \n",
       "1  ['Produced by Academy Award(R)-winning filmmak...  NaN   \n",
       "2  ['Produced by Academy Award(R)-winning filmmak...  NaN   \n",
       "3  ['Produced by Academy Award(R)-winning filmmak...  NaN   \n",
       "4  ['Produced by Academy Award(R)-winning filmmak...  NaN   \n",
       "\n",
       "                   title  tech2          brand     main_cat  similar_item  \\\n",
       "0  The Joy Luck Club VHS    NaN  Tamlyn Tomita  Movies & TV           NaN   \n",
       "1  The Joy Luck Club VHS    NaN  Tamlyn Tomita  Movies & TV           NaN   \n",
       "2  The Joy Luck Club VHS    NaN  Tamlyn Tomita  Movies & TV           NaN   \n",
       "3  The Joy Luck Club VHS    NaN  Tamlyn Tomita  Movies & TV           NaN   \n",
       "4  The Joy Luck Club VHS    NaN  Tamlyn Tomita  Movies & TV           NaN   \n",
       "\n",
       "   price  \n",
       "0  $3.28  \n",
       "1  $3.28  \n",
       "2  $3.28  \n",
       "3  $3.28  \n",
       "4  $3.28  "
      ]
     },
     "execution_count": 74,
     "metadata": {},
     "output_type": "execute_result"
    }
   ],
   "source": [
    "df_mtv.head()"
   ]
  },
  {
   "cell_type": "code",
   "execution_count": 75,
   "metadata": {},
   "outputs": [
    {
     "data": {
      "text/plain": [
       "Text(0, 0.5, 'Count')"
      ]
     },
     "execution_count": 75,
     "metadata": {},
     "output_type": "execute_result"
    },
    {
     "data": {
      "image/png": "[encoded data removed]",
      "text/plain": [
       "<Figure size 720x360 with 1 Axes>"
      ]
     },
     "metadata": {},
     "output_type": "display_data"
    }
   ],
   "source": [
    "import seaborn as sns\n",
    "\n",
    "sns.set(context = 'notebook', style = 'whitegrid', font_scale=1)\n",
    "plt.figure(figsize = (10, 5))\n",
    "ax = sns.countplot(x=\"rating\", data=df_mtv, alpha=1)\n",
    "\n",
    "plt.title(\"Distribution of Ratings\")\n",
    "plt.xlabel(\"Ratings\", fontsize = 20, labelpad=15)\n",
    "plt.ylabel(\"Count\", fontsize = 20,labelpad=20)"
   ]
  },
  {
   "cell_type": "code",
   "execution_count": 76,
   "metadata": {},
   "outputs": [
    {
     "data": {
      "text/plain": [
       "5.0    0.707026\n",
       "4.0    0.117404\n",
       "1.0    0.079869\n",
       "3.0    0.060233\n",
       "2.0    0.035469\n",
       "Name: rating, dtype: float64"
      ]
     },
     "execution_count": 76,
     "metadata": {},
     "output_type": "execute_result"
    }
   ],
   "source": [
    "df_mtv.rating.value_counts(normalize=True)"
   ]
  },
  {
   "cell_type": "code",
   "execution_count": 77,
   "metadata": {},
   "outputs": [
    {
     "data": {
      "text/plain": [
       "reviewerID\n",
       "AJ2LH4FFW4QYX           110\n",
       "A3QXT4RO4RBPCL           99\n",
       "A5RGNTKP1A87U            98\n",
       "A471W6ANJU6W9            86\n",
       "A1ADJ8AD91RE0J           82\n",
       "                       ... \n",
       "A3ALWY9H7F5T9C            1\n",
       "A3ALYXTZMFUOOS            1\n",
       "A3ALZNAQSPSF9D            1\n",
       "A3AM0ULPMABZZT            1\n",
       "A0040332ZUSVVN7CM6P0      1\n",
       "Name: rating, Length: 120001, dtype: int64"
      ]
     },
     "execution_count": 77,
     "metadata": {},
     "output_type": "execute_result"
    }
   ],
   "source": [
    "# Reviewer's rating counts\n",
    "reviewer_count = df_mtv.groupby('reviewerID')['rating'].count()\n",
    "\n",
    "# Productwise rating counts\n",
    "product_count = df_mtv.groupby('title')['rating'].count()\n",
    "\n",
    "# \n",
    "reviewer_count.sort_values(ascending = False)"
   ]
  },
  {
   "cell_type": "code",
   "execution_count": 79,
   "metadata": {},
   "outputs": [
    {
     "name": "stdout",
     "output_type": "stream",
     "text": [
      "Total number of reviewers in 2018:  120001\n",
      "Top 20 reviewers:  reviewerID\n",
      "AJ2LH4FFW4QYX     110\n",
      "A3QXT4RO4RBPCL     99\n",
      "A5RGNTKP1A87U      98\n",
      "A471W6ANJU6W9      86\n",
      "A1ADJ8AD91RE0J     82\n",
      "AG8OC1AEP44WU      82\n",
      "A2764UZVBFC61W     80\n",
      "A3EKNWZOV3EZXC     79\n",
      "AGB3M4QPM0MIU      78\n",
      "A54ERXXP81MF       75\n",
      "AVBJBOK7CQTEQ      71\n",
      "A1UI1DY6CPWHY5     69\n",
      "A3HOMAS5ODFCW6     67\n",
      "A292UXMLXC60UZ     65\n",
      "AUSLDE6RFBM2O      64\n",
      "A3V0D97QKXDN5R     63\n",
      "A1MD1UJUNN0FRF     62\n",
      "A1O0ZP73F9OQ6T     62\n",
      "A2HFT9LTGLPCYZ     59\n",
      "A6YRRF042L3NA      59\n",
      "Name: rating, dtype: int64\n"
     ]
    }
   ],
   "source": [
    "top_reviewers = reviewer_count.sort_values(ascending=False)[:20]\n",
    "count_reviewers = len(reviewer_count)\n",
    "print(\"Total number of reviewers in 2018: \", count_reviewers)\n",
    "print('Top 20 reviewers: ',top_reviewers)"
   ]
  },
  {
   "cell_type": "markdown",
   "metadata": {},
   "source": [
    "### Top 20 productw (Movies & TV)"
   ]
  },
  {
   "cell_type": "code",
   "execution_count": 80,
   "metadata": {},
   "outputs": [
    {
     "name": "stdout",
     "output_type": "stream",
     "text": [
      "Total number of products reviewed in 2018:  120001\n",
      "Top 20 products reviews:  title\n",
      "Deadpool 2016                                                             959\n",
      "Harry Potter - Complete 8-Film Collection                                 892\n",
      "Blade Runner: The Final Cut                                               601\n",
      "John Wick                                                                 519\n",
      "Guardians Of The Galaxy Region Free                                       511\n",
      "Guardians of the Galaxy [Blu-ray]                                         511\n",
      "Guardians of the Galaxy                                                   511\n",
      "An Inspector Calls (Region 3 DVD / Non USA Region) (English Subtitled)    506\n",
      "Harry Potter Collezione Completa (8 Blu-Ray)                              464\n",
      "Me Before You (BD)                                                        457\n",
      "The Dressmaker                                                            457\n",
      "Sicario                                                                   421\n",
      "War Room                                                                  417\n",
      "Jurassic World                                                            369\n",
      "Avatar - The Last Airbender: The Complete Series                          366\n",
      "The Sound of Music                                                        364\n",
      "Your Name (Japanese Animation DVD, English Subtitles, All Region)         362\n",
      "Kingsman: The Secret Service                                              355\n",
      "The Lord Of The Rings: Trilogy                                            344\n",
      "Ant-Man                                                                   329\n",
      "Name: rating, dtype: int64\n"
     ]
    }
   ],
   "source": [
    "top_products = product_count.sort_values(ascending=False)[:20]\n",
    "count_products = len(reviewer_count)\n",
    "print(\"Total number of products reviewed in 2018: \", count_products)\n",
    "print('Top 20 products reviews: ',top_products)"
   ]
  },
  {
   "cell_type": "code",
   "execution_count": 81,
   "metadata": {},
   "outputs": [
    {
     "data": {
      "image/png": "[encoded data removed]",
      "text/plain": [
       "<Figure size 720x360 with 1 Axes>"
      ]
     },
     "metadata": {},
     "output_type": "display_data"
    }
   ],
   "source": [
    "fig = plt.figure(figsize = (10, 5))\n",
    "axes = fig.add_axes([0.1,0.1,1,1])\n",
    "# plt.title(\"Number of Ratings Per Movie\", fontsize = 20)\n",
    "plt.xlabel(\"Movies\", fontsize = 25, labelpad=20)\n",
    "plt.ylabel(\"Number of Ratings\", fontsize = 25, labelpad=20)\n",
    "plt.plot(reviewer_count.sort_values(ascending = False).values, color='#eb5e68', linewidth=3)\n",
    "plt.tick_params(labelsize = 20)\n"
   ]
  },
  {
   "cell_type": "markdown",
   "metadata": {},
   "source": [
    "### Top 20 Reviewers"
   ]
  },
  {
   "cell_type": "code",
   "execution_count": 82,
   "metadata": {},
   "outputs": [
    {
     "data": {
      "text/plain": [
       "<AxesSubplot:title={'center':'Top Reviewers'}, xlabel='Counts', ylabel='reviewerID'>"
      ]
     },
     "execution_count": 82,
     "metadata": {},
     "output_type": "execute_result"
    },
    {
     "data": {
      "image/png": "[encoded data removed]",
      "text/plain": [
       "<Figure size 432x288 with 1 Axes>"
      ]
     },
     "metadata": {},
     "output_type": "display_data"
    }
   ],
   "source": [
    "#figure(num=None, figsize=(10, 6), dpi=80, facecolor='w', edgecolor='k')\n",
    "plt.xlabel(\"Counts\", fontsize = 20)\n",
    "plt.ylabel(\"Reviewers\", fontsize = 20)\n",
    "plt.title('Top Reviewers', fontsize = 20)\n",
    "top_reviewers.sort_values().plot(kind='barh', zorder=2, width=0.85)\n"
   ]
  },
  {
   "cell_type": "code",
   "execution_count": 83,
   "metadata": {},
   "outputs": [
    {
     "data": {
      "text/plain": [
       "<AxesSubplot:title={'center':'Top 20 Movies'}, xlabel='Counts', ylabel='title'>"
      ]
     },
     "execution_count": 83,
     "metadata": {},
     "output_type": "execute_result"
    },
    {
     "data": {
      "image/png": "[encoded data removed]",
      "text/plain": [
       "<Figure size 432x288 with 1 Axes>"
      ]
     },
     "metadata": {},
     "output_type": "display_data"
    }
   ],
   "source": [
    "#figure(num=None, figsize=(10, 6))\n",
    "plt.xlabel(\"Counts\", fontsize = 20)\n",
    "plt.ylabel(\"Movie\", fontsize = 20)\n",
    "plt.title('Top 20 Movies', fontsize = 20)\n",
    "top_products.sort_values().plot(kind='barh', zorder=2,  width=0.85)"
   ]
  },
  {
   "cell_type": "code",
   "execution_count": 84,
   "metadata": {},
   "outputs": [
    {
     "data": {
      "text/plain": [
       "892"
      ]
     },
     "execution_count": 84,
     "metadata": {},
     "output_type": "execute_result"
    }
   ],
   "source": [
    "top_products[1]"
   ]
  },
  {
   "cell_type": "markdown",
   "metadata": {},
   "source": [
    "## Summary findings"
   ]
  },
  {
   "cell_type": "markdown",
   "metadata": {},
   "source": [
    "'''\n",
    "a) In 2018, the majority of movies and tv shows have gotten 5 start ratings (65%)\n",
    "'''"
   ]
  },
  {
   "cell_type": "markdown",
   "metadata": {},
   "source": [
    "# FSM"
   ]
  },
  {
   "cell_type": "code",
   "execution_count": 85,
   "metadata": {},
   "outputs": [],
   "source": [
    "from sklearn.model_selection import train_test_split\n",
    "from sklearn.preprocessing import LabelEncoder\n",
    "import numpy as np"
   ]
  },
  {
   "cell_type": "code",
   "execution_count": 86,
   "metadata": {},
   "outputs": [
    {
     "name": "stdout",
     "output_type": "stream",
     "text": [
      "120001 38811\n"
     ]
    }
   ],
   "source": [
    "le_reviewer = LabelEncoder()\n",
    "df_mtv['reviewer'] = le_reviewer.fit_transform(df_mtv['reviewerID'].astype(str).values)\n",
    "n_reviewers = df_mtv['reviewer'].nunique()\n",
    "le_movie = LabelEncoder()\n",
    "df_mtv['movie'] = le_movie.fit_transform(df_mtv['title'].astype(str).values)\n",
    "n_movies = df_mtv['movie'].nunique()\n",
    "df_mtv['rating'] = df_mtv['rating'].values.astype(np.float32)\n",
    "print(n_reviewers, n_movies)"
   ]
  },
  {
   "cell_type": "code",
   "execution_count": 87,
   "metadata": {},
   "outputs": [],
   "source": [
    "X = df_mtv[['reviewer', 'movie']].values\n",
    "y = df_mtv['rating'].values"
   ]
  },
  {
   "cell_type": "code",
   "execution_count": 88,
   "metadata": {},
   "outputs": [],
   "source": [
    "X_train, X_test, y_train, y_test = train_test_split(X, y, test_size = 0.2, random_state = 42)"
   ]
  },
  {
   "cell_type": "code",
   "execution_count": 89,
   "metadata": {},
   "outputs": [
    {
     "data": {
      "text/plain": [
       "((167244, 2), (41812, 2), (167244,), (41812,))"
      ]
     },
     "execution_count": 89,
     "metadata": {},
     "output_type": "execute_result"
    }
   ],
   "source": [
    "X_train.shape, X_test.shape, y_train.shape, y_test.shape"
   ]
  },
  {
   "cell_type": "code",
   "execution_count": 90,
   "metadata": {},
   "outputs": [],
   "source": [
    "# import libraries:\n",
    "from tensorflow.keras.models import Model\n",
    "from tensorflow.keras.layers import Input, Reshape, Dot\n",
    "from tensorflow.keras.layers import Embedding\n",
    "from tensorflow.keras.optimizers import Adam\n",
    "from tensorflow.keras.regularizers import l2"
   ]
  },
  {
   "cell_type": "code",
   "execution_count": 91,
   "metadata": {},
   "outputs": [],
   "source": [
    "#use embeddings to represent each user and each movie in the data. \n",
    "#These embeddings will be vectors (of size n_factors) that start out as random numbers but are fit by the model to \n",
    "# capture the essential qualities of each user/movie.\n",
    "\n",
    "def RecommenderV(n_reviewers, n_movies, n_factors):\n",
    "    reviewer = Input(shape=(1,))\n",
    "    r = Embedding(n_reviewers, n_factors, embeddings_initializer='he_normal',\n",
    "                  embeddings_regularizer=l2(1e-6))(reviewer)\n",
    "    r = Reshape((n_factors,))(r)\n",
    "    \n",
    "    movie = Input(shape=(1,))\n",
    "    m = Embedding(n_movies, n_factors, embeddings_initializer='he_normal',\n",
    "                  embeddings_regularizer=l2(1e-6))(movie)\n",
    "    m = Reshape((n_factors,))(m)\n",
    "    \n",
    "    x = Dot(axes=1)([r, m])\n",
    "    model = Model(inputs=[reviewer, movie], outputs=x)\n",
    "    opt = Adam(lr=0.001)\n",
    "    model.compile(loss='mean_squared_error', optimizer=opt)\n",
    "    return model"
   ]
  },
  {
   "cell_type": "code",
   "execution_count": 92,
   "metadata": {},
   "outputs": [
    {
     "name": "stdout",
     "output_type": "stream",
     "text": [
      "Model: \"model_2\"\n",
      "__________________________________________________________________________________________________\n",
      "Layer (type)                    Output Shape         Param #     Connected to                     \n",
      "==================================================================================================\n",
      "input_5 (InputLayer)            [(None, 1)]          0                                            \n",
      "__________________________________________________________________________________________________\n",
      "input_6 (InputLayer)            [(None, 1)]          0                                            \n",
      "__________________________________________________________________________________________________\n",
      "embedding_4 (Embedding)         (None, 1, 50)        6000050     input_5[0][0]                    \n",
      "__________________________________________________________________________________________________\n",
      "embedding_5 (Embedding)         (None, 1, 50)        1940550     input_6[0][0]                    \n",
      "__________________________________________________________________________________________________\n",
      "reshape_4 (Reshape)             (None, 50)           0           embedding_4[0][0]                \n",
      "__________________________________________________________________________________________________\n",
      "reshape_5 (Reshape)             (None, 50)           0           embedding_5[0][0]                \n",
      "__________________________________________________________________________________________________\n",
      "dot_2 (Dot)                     (None, 1)            0           reshape_4[0][0]                  \n",
      "                                                                 reshape_5[0][0]                  \n",
      "==================================================================================================\n",
      "Total params: 7,940,600\n",
      "Trainable params: 7,940,600\n",
      "Non-trainable params: 0\n",
      "__________________________________________________________________________________________________\n"
     ]
    }
   ],
   "source": [
    "# set up the nunmber of factors, higher number of factors leads to higher personalization\n",
    "n_factors = 50\n",
    "X_train_array = [X_train[:, 0], X_train[:, 1]]\n",
    "X_test_array = [X_test[:, 0], X_test[:, 1]]\n",
    "\n",
    "model = RecommenderV(n_reviewers, n_movies, n_factors)\n",
    "model.summary()"
   ]
  },
  {
   "cell_type": "code",
   "execution_count": 93,
   "metadata": {},
   "outputs": [
    {
     "name": "stdout",
     "output_type": "stream",
     "text": [
      "Epoch 1/5\n",
      "654/654 [==============================] - 29s 44ms/step - loss: 20.3328 - val_loss: 20.1698\n",
      "Epoch 2/5\n",
      "654/654 [==============================] - 29s 44ms/step - loss: 19.6835 - val_loss: 19.3266\n",
      "Epoch 3/5\n",
      "654/654 [==============================] - 29s 44ms/step - loss: 16.9312 - val_loss: 18.1925\n",
      "Epoch 4/5\n",
      "654/654 [==============================] - 29s 44ms/step - loss: 12.9538 - val_loss: 17.2473\n",
      "Epoch 5/5\n",
      "654/654 [==============================] - 30s 45ms/step - loss: 9.3415 - val_loss: 16.5925\n"
     ]
    }
   ],
   "source": [
    "history = model.fit(x=X_train_array, y=y_train, batch_size=256, epochs=5,\n",
    "                    verbose=1, validation_data=(X_test_array, y_test))"
   ]
  },
  {
   "cell_type": "code",
   "execution_count": 94,
   "metadata": {},
   "outputs": [
    {
     "name": "stdout",
     "output_type": "stream",
     "text": [
      "Epoch 1/5\n",
      "5227/5227 [==============================] - 290s 55ms/step - loss: 6.0065 - val_loss: 15.9450\n",
      "Epoch 2/5\n",
      "5227/5227 [==============================] - 293s 56ms/step - loss: 3.8248 - val_loss: 15.7513\n",
      "Epoch 3/5\n",
      "5227/5227 [==============================] - 287s 55ms/step - loss: 2.8444 - val_loss: 15.6914\n",
      "Epoch 4/5\n",
      "5227/5227 [==============================] - 244s 47ms/step - loss: 2.3385 - val_loss: 15.6810\n",
      "Epoch 5/5\n",
      "5227/5227 [==============================] - 217s 41ms/step - loss: 2.1539 - val_loss: 15.6950\n"
     ]
    }
   ],
   "source": [
    "history = model.fit(x=X_train_array, y=y_train, batch_size=32, epochs=5,\n",
    "                    verbose=1, validation_data=(X_test_array, y_test))"
   ]
  },
  {
   "cell_type": "code",
   "execution_count": 96,
   "metadata": {},
   "outputs": [
    {
     "name": "stdout",
     "output_type": "stream",
     "text": [
      "120001 38811\n"
     ]
    }
   ],
   "source": [
    "from sklearn.preprocessing import LabelEncoder\n",
    "reviewer_enc = LabelEncoder()\n",
    "df_mtv['reviewer'] = reviewer_enc.fit_transform(df_mtv['reviewerID'].astype(str).values)\n",
    "n_reviewers = df_mtv['reviewer'].nunique()\n",
    "movie_enc = LabelEncoder()\n",
    "df_mtv['movie'] = movie_enc.fit_transform(df_mtv['title'].astype(str).values)\n",
    "n_movies = df_mtv['movie'].nunique()\n",
    "df_mtv['rating'] = df_mtv['rating'].values.astype(np.float32)\n",
    "print(n_reviewers, n_movies)"
   ]
  },
  {
   "cell_type": "code",
   "execution_count": 98,
   "metadata": {},
   "outputs": [],
   "source": [
    "from sklearn.model_selection import train_test_split\n",
    "train, test = train_test_split(df_mtv, test_size=0.2, random_state=42)"
   ]
  },
  {
   "cell_type": "code",
   "execution_count": 99,
   "metadata": {},
   "outputs": [],
   "source": [
    "from tensorflow.keras.layers import Input, Embedding, Flatten, Dot, Dense\n",
    "from tensorflow.keras.models import Model\n",
    "movie_input = Input(shape=[1], name=\"Movie-Input\")\n",
    "movie_embedding = Embedding(n_movies+1, 5, name=\"Movie-Embedding\")(movie_input)\n",
    "movie_vec = Flatten(name=\"Flatten-Movies\")(movie_embedding)\n",
    "user_input = Input(shape=[1], name=\"User-Input\")\n",
    "user_embedding = Embedding(n_reviewers+1, 5, name=\"User-Embedding\")(user_input)\n",
    "user_vec = Flatten(name=\"Flatten-Users\")(user_embedding)\n",
    "prod = Dot(name=\"Dot-Product\", axes=1)([movie_vec, user_vec])\n",
    "model = Model([user_input, movie_input], prod)\n",
    "model.compile('adam', 'mae')"
   ]
  },
  {
   "cell_type": "code",
   "execution_count": 100,
   "metadata": {},
   "outputs": [
    {
     "name": "stdout",
     "output_type": "stream",
     "text": [
      "120001 38811\n"
     ]
    }
   ],
   "source": [
    "print(n_reviewers, n_movies)"
   ]
  },
  {
   "cell_type": "code",
   "execution_count": 101,
   "metadata": {},
   "outputs": [
    {
     "data": {
      "text/plain": [
       "'B00LOCLCPU'"
      ]
     },
     "execution_count": 101,
     "metadata": {},
     "output_type": "execute_result"
    }
   ],
   "source": [
    "train.productID.astype(str).values[0]"
   ]
  },
  {
   "cell_type": "code",
   "execution_count": 102,
   "metadata": {},
   "outputs": [
    {
     "name": "stdout",
     "output_type": "stream",
     "text": [
      "Epoch 1/10\n",
      "5227/5227 [==============================] - 18s 3ms/step - loss: 4.3340 - val_loss: 4.3296\n",
      "Epoch 2/10\n",
      "5227/5227 [==============================] - 20s 4ms/step - loss: 4.3072 - val_loss: 4.2994\n",
      "Epoch 3/10\n",
      "5227/5227 [==============================] - 21s 4ms/step - loss: 4.1979 - val_loss: 4.2401\n",
      "Epoch 4/10\n",
      "5227/5227 [==============================] - 21s 4ms/step - loss: 3.9832 - val_loss: 4.1629\n",
      "Epoch 5/10\n",
      "5227/5227 [==============================] - 18s 3ms/step - loss: 3.7111 - val_loss: 4.0833\n",
      "Epoch 6/10\n",
      "5227/5227 [==============================] - 19s 4ms/step - loss: 3.3983 - val_loss: 4.0094\n",
      "Epoch 7/10\n",
      "5227/5227 [==============================] - 18s 4ms/step - loss: 3.0691 - val_loss: 3.9435\n",
      "Epoch 8/10\n",
      "5227/5227 [==============================] - 21s 4ms/step - loss: 2.7618 - val_loss: 3.8874\n",
      "Epoch 9/10\n",
      "5227/5227 [==============================] - 20s 4ms/step - loss: 2.4726 - val_loss: 3.8401\n",
      "Epoch 10/10\n",
      "5227/5227 [==============================] - 18s 3ms/step - loss: 2.2070 - val_loss: 3.8015\n"
     ]
    }
   ],
   "source": [
    "history = model.fit([train.reviewer, \n",
    "                     train.movie], \n",
    "                    train.rating.values.astype(np.float32), \n",
    "                    epochs=10, \n",
    "                    verbose=1,\n",
    "                   validation_data=([test.reviewer, test.movie], test.rating))"
   ]
  },
  {
   "cell_type": "code",
   "execution_count": null,
   "metadata": {},
   "outputs": [],
   "source": []
  }
 ],
 "metadata": {
  "kernelspec": {
   "display_name": "Python 3",
   "language": "python",
   "name": "python3"
  },
  "language_info": {
   "codemirror_mode": {
    "name": "ipython",
    "version": 3
   },
   "file_extension": ".py",
   "mimetype": "text/x-python",
   "name": "python",
   "nbconvert_exporter": "python",
   "pygments_lexer": "ipython3",
   "version": "3.8.5"
  }
 },
 "nbformat": 4,
 "nbformat_minor": 4
}
