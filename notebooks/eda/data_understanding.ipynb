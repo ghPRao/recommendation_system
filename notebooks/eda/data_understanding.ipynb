{
 "cells": [
  {
   "cell_type": "markdown",
   "metadata": {},
   "source": [
    "# Data Exploration "
   ]
  },
  {
   "cell_type": "code",
   "execution_count": 55,
   "metadata": {},
   "outputs": [],
   "source": [
    "import pandas as pd\n",
    "import matplotlib.pyplot as plt\n",
    "from collections import Counter"
   ]
  },
  {
   "cell_type": "markdown",
   "metadata": {},
   "source": [
    "## Import Data"
   ]
  },
  {
   "cell_type": "code",
   "execution_count": 26,
   "metadata": {},
   "outputs": [
    {
     "name": "stderr",
     "output_type": "stream",
     "text": [
      "/Users/lalithap/anaconda3/envs/learn-env/lib/python3.8/site-packages/IPython/core/interactiveshell.py:3145: DtypeWarning: Columns (10) have mixed types.Specify dtype option on import or set low_memory=False.\n",
      "  has_raised = await self.run_ast_nodes(code_ast.body, cell_name,\n"
     ]
    },
    {
     "data": {
      "text/html": [
       "<div>\n",
       "<style scoped>\n",
       "    .dataframe tbody tr th:only-of-type {\n",
       "        vertical-align: middle;\n",
       "    }\n",
       "\n",
       "    .dataframe tbody tr th {\n",
       "        vertical-align: top;\n",
       "    }\n",
       "\n",
       "    .dataframe thead th {\n",
       "        text-align: right;\n",
       "    }\n",
       "</style>\n",
       "<table border=\"1\" class=\"dataframe\">\n",
       "  <thead>\n",
       "    <tr style=\"text-align: right;\">\n",
       "      <th></th>\n",
       "      <th>overall</th>\n",
       "      <th>verified</th>\n",
       "      <th>reviewTime</th>\n",
       "      <th>reviewerID</th>\n",
       "      <th>asin</th>\n",
       "      <th>style</th>\n",
       "      <th>reviewerName</th>\n",
       "      <th>reviewText</th>\n",
       "      <th>summary</th>\n",
       "      <th>unixReviewTime</th>\n",
       "      <th>...</th>\n",
       "      <th>title</th>\n",
       "      <th>also_buy</th>\n",
       "      <th>tech2</th>\n",
       "      <th>brand</th>\n",
       "      <th>rank</th>\n",
       "      <th>also_view</th>\n",
       "      <th>main_cat</th>\n",
       "      <th>similar_item</th>\n",
       "      <th>price</th>\n",
       "      <th>details</th>\n",
       "    </tr>\n",
       "  </thead>\n",
       "  <tbody>\n",
       "    <tr>\n",
       "      <th>0</th>\n",
       "      <td>5.0</td>\n",
       "      <td>True</td>\n",
       "      <td>04 8, 2018</td>\n",
       "      <td>A1CW3NLH9MBQRY</td>\n",
       "      <td>6303022901</td>\n",
       "      <td>{'Format:': ' DVD'}</td>\n",
       "      <td>Sally Nunez</td>\n",
       "      <td>I really enjoyed this movie. Brings tears to m...</td>\n",
       "      <td>Five Stars</td>\n",
       "      <td>1523145600</td>\n",
       "      <td>...</td>\n",
       "      <td>The Joy Luck Club VHS</td>\n",
       "      <td>[]</td>\n",
       "      <td>NaN</td>\n",
       "      <td>Tamlyn Tomita</td>\n",
       "      <td>295,699 in Movies &amp; TV (</td>\n",
       "      <td>[]</td>\n",
       "      <td>Movies &amp; TV</td>\n",
       "      <td>NaN</td>\n",
       "      <td>$3.28</td>\n",
       "      <td>{'ASIN: ': '6303022901'}</td>\n",
       "    </tr>\n",
       "    <tr>\n",
       "      <th>1</th>\n",
       "      <td>5.0</td>\n",
       "      <td>True</td>\n",
       "      <td>04 2, 2018</td>\n",
       "      <td>A1WK0IRZ08NX9X</td>\n",
       "      <td>6303022901</td>\n",
       "      <td>{'Format:': ' DVD'}</td>\n",
       "      <td>Ammie28</td>\n",
       "      <td>If you have never seen this movie, you may jus...</td>\n",
       "      <td>Heart Touching...</td>\n",
       "      <td>1522627200</td>\n",
       "      <td>...</td>\n",
       "      <td>The Joy Luck Club VHS</td>\n",
       "      <td>[]</td>\n",
       "      <td>NaN</td>\n",
       "      <td>Tamlyn Tomita</td>\n",
       "      <td>295,699 in Movies &amp; TV (</td>\n",
       "      <td>[]</td>\n",
       "      <td>Movies &amp; TV</td>\n",
       "      <td>NaN</td>\n",
       "      <td>$3.28</td>\n",
       "      <td>{'ASIN: ': '6303022901'}</td>\n",
       "    </tr>\n",
       "    <tr>\n",
       "      <th>2</th>\n",
       "      <td>5.0</td>\n",
       "      <td>True</td>\n",
       "      <td>03 30, 2018</td>\n",
       "      <td>A2HGXJQCQTXE4E</td>\n",
       "      <td>6303022901</td>\n",
       "      <td>{'Format:': ' Blu-ray'}</td>\n",
       "      <td>Pa nhia lee</td>\n",
       "      <td>awesome all time fave movie.</td>\n",
       "      <td>Five Stars</td>\n",
       "      <td>1522368000</td>\n",
       "      <td>...</td>\n",
       "      <td>The Joy Luck Club VHS</td>\n",
       "      <td>[]</td>\n",
       "      <td>NaN</td>\n",
       "      <td>Tamlyn Tomita</td>\n",
       "      <td>295,699 in Movies &amp; TV (</td>\n",
       "      <td>[]</td>\n",
       "      <td>Movies &amp; TV</td>\n",
       "      <td>NaN</td>\n",
       "      <td>$3.28</td>\n",
       "      <td>{'ASIN: ': '6303022901'}</td>\n",
       "    </tr>\n",
       "    <tr>\n",
       "      <th>3</th>\n",
       "      <td>5.0</td>\n",
       "      <td>True</td>\n",
       "      <td>03 30, 2018</td>\n",
       "      <td>A14ASTA78EK120</td>\n",
       "      <td>6303022901</td>\n",
       "      <td>{'Format:': ' DVD'}</td>\n",
       "      <td>lalush</td>\n",
       "      <td>The greatest movie ever!!!!!</td>\n",
       "      <td>Five Stars</td>\n",
       "      <td>1522368000</td>\n",
       "      <td>...</td>\n",
       "      <td>The Joy Luck Club VHS</td>\n",
       "      <td>[]</td>\n",
       "      <td>NaN</td>\n",
       "      <td>Tamlyn Tomita</td>\n",
       "      <td>295,699 in Movies &amp; TV (</td>\n",
       "      <td>[]</td>\n",
       "      <td>Movies &amp; TV</td>\n",
       "      <td>NaN</td>\n",
       "      <td>$3.28</td>\n",
       "      <td>{'ASIN: ': '6303022901'}</td>\n",
       "    </tr>\n",
       "    <tr>\n",
       "      <th>4</th>\n",
       "      <td>5.0</td>\n",
       "      <td>True</td>\n",
       "      <td>03 29, 2018</td>\n",
       "      <td>A2EGT1RXKVOXTJ</td>\n",
       "      <td>6303022901</td>\n",
       "      <td>{'Format:': ' Amazon Video'}</td>\n",
       "      <td>Karin</td>\n",
       "      <td>Love this movie</td>\n",
       "      <td>Five Stars</td>\n",
       "      <td>1522281600</td>\n",
       "      <td>...</td>\n",
       "      <td>The Joy Luck Club VHS</td>\n",
       "      <td>[]</td>\n",
       "      <td>NaN</td>\n",
       "      <td>Tamlyn Tomita</td>\n",
       "      <td>295,699 in Movies &amp; TV (</td>\n",
       "      <td>[]</td>\n",
       "      <td>Movies &amp; TV</td>\n",
       "      <td>NaN</td>\n",
       "      <td>$3.28</td>\n",
       "      <td>{'ASIN: ': '6303022901'}</td>\n",
       "    </tr>\n",
       "  </tbody>\n",
       "</table>\n",
       "<p>5 rows × 24 columns</p>\n",
       "</div>"
      ],
      "text/plain": [
       "   overall  verified   reviewTime      reviewerID        asin  \\\n",
       "0      5.0      True   04 8, 2018  A1CW3NLH9MBQRY  6303022901   \n",
       "1      5.0      True   04 2, 2018  A1WK0IRZ08NX9X  6303022901   \n",
       "2      5.0      True  03 30, 2018  A2HGXJQCQTXE4E  6303022901   \n",
       "3      5.0      True  03 30, 2018  A14ASTA78EK120  6303022901   \n",
       "4      5.0      True  03 29, 2018  A2EGT1RXKVOXTJ  6303022901   \n",
       "\n",
       "                          style reviewerName  \\\n",
       "0           {'Format:': ' DVD'}  Sally Nunez   \n",
       "1           {'Format:': ' DVD'}      Ammie28   \n",
       "2       {'Format:': ' Blu-ray'}  Pa nhia lee   \n",
       "3           {'Format:': ' DVD'}       lalush   \n",
       "4  {'Format:': ' Amazon Video'}       Karin    \n",
       "\n",
       "                                          reviewText            summary  \\\n",
       "0  I really enjoyed this movie. Brings tears to m...         Five Stars   \n",
       "1  If you have never seen this movie, you may jus...  Heart Touching...   \n",
       "2                       awesome all time fave movie.         Five Stars   \n",
       "3                       The greatest movie ever!!!!!         Five Stars   \n",
       "4                                    Love this movie         Five Stars   \n",
       "\n",
       "   unixReviewTime  ...                  title also_buy tech2          brand  \\\n",
       "0      1523145600  ...  The Joy Luck Club VHS       []   NaN  Tamlyn Tomita   \n",
       "1      1522627200  ...  The Joy Luck Club VHS       []   NaN  Tamlyn Tomita   \n",
       "2      1522368000  ...  The Joy Luck Club VHS       []   NaN  Tamlyn Tomita   \n",
       "3      1522368000  ...  The Joy Luck Club VHS       []   NaN  Tamlyn Tomita   \n",
       "4      1522281600  ...  The Joy Luck Club VHS       []   NaN  Tamlyn Tomita   \n",
       "\n",
       "                       rank also_view     main_cat similar_item  price  \\\n",
       "0  295,699 in Movies & TV (        []  Movies & TV          NaN  $3.28   \n",
       "1  295,699 in Movies & TV (        []  Movies & TV          NaN  $3.28   \n",
       "2  295,699 in Movies & TV (        []  Movies & TV          NaN  $3.28   \n",
       "3  295,699 in Movies & TV (        []  Movies & TV          NaN  $3.28   \n",
       "4  295,699 in Movies & TV (        []  Movies & TV          NaN  $3.28   \n",
       "\n",
       "                    details  \n",
       "0  {'ASIN: ': '6303022901'}  \n",
       "1  {'ASIN: ': '6303022901'}  \n",
       "2  {'ASIN: ': '6303022901'}  \n",
       "3  {'ASIN: ': '6303022901'}  \n",
       "4  {'ASIN: ': '6303022901'}  \n",
       "\n",
       "[5 rows x 24 columns]"
      ]
     },
     "execution_count": 26,
     "metadata": {},
     "output_type": "execute_result"
    }
   ],
   "source": [
    "df_mtv = pd.read_csv(\"../../data/mtv_meta.csv\")\n",
    "df_mtv.head()"
   ]
  },
  {
   "cell_type": "code",
   "execution_count": 27,
   "metadata": {},
   "outputs": [
    {
     "data": {
      "text/plain": [
       "Index(['overall', 'verified', 'reviewTime', 'reviewerID', 'asin', 'style',\n",
       "       'reviewerName', 'reviewText', 'summary', 'unixReviewTime', 'vote',\n",
       "       'category', 'description', 'fit', 'title', 'also_buy', 'tech2', 'brand',\n",
       "       'rank', 'also_view', 'main_cat', 'similar_item', 'price', 'details'],\n",
       "      dtype='object')"
      ]
     },
     "execution_count": 27,
     "metadata": {},
     "output_type": "execute_result"
    }
   ],
   "source": [
    "df_mtv.columns"
   ]
  },
  {
   "cell_type": "code",
   "execution_count": 28,
   "metadata": {},
   "outputs": [
    {
     "name": "stdout",
     "output_type": "stream",
     "text": [
      "<class 'pandas.core.frame.DataFrame'>\n",
      "RangeIndex: 2742460 entries, 0 to 2742459\n",
      "Data columns (total 24 columns):\n",
      " #   Column          Dtype  \n",
      "---  ------          -----  \n",
      " 0   overall         float64\n",
      " 1   verified        bool   \n",
      " 2   reviewTime      object \n",
      " 3   reviewerID      object \n",
      " 4   asin            object \n",
      " 5   style           object \n",
      " 6   reviewerName    object \n",
      " 7   reviewText      object \n",
      " 8   summary         object \n",
      " 9   unixReviewTime  int64  \n",
      " 10  vote            object \n",
      " 11  category        object \n",
      " 12  description     object \n",
      " 13  fit             float64\n",
      " 14  title           object \n",
      " 15  also_buy        object \n",
      " 16  tech2           float64\n",
      " 17  brand           object \n",
      " 18  rank            object \n",
      " 19  also_view       object \n",
      " 20  main_cat        object \n",
      " 21  similar_item    float64\n",
      " 22  price           object \n",
      " 23  details         object \n",
      "dtypes: bool(1), float64(4), int64(1), object(18)\n",
      "memory usage: 483.9+ MB\n"
     ]
    }
   ],
   "source": [
    "df_mtv.info()"
   ]
  },
  {
   "cell_type": "code",
   "execution_count": 29,
   "metadata": {},
   "outputs": [
    {
     "data": {
      "text/plain": [
       "0          5.0\n",
       "1          5.0\n",
       "2          5.0\n",
       "3          5.0\n",
       "4          5.0\n",
       "          ... \n",
       "2742455    1.0\n",
       "2742456    5.0\n",
       "2742457    5.0\n",
       "2742458    1.0\n",
       "2742459    3.0\n",
       "Name: overall, Length: 2742460, dtype: float64"
      ]
     },
     "execution_count": 29,
     "metadata": {},
     "output_type": "execute_result"
    }
   ],
   "source": [
    "df_mtv.overall"
   ]
  },
  {
   "cell_type": "code",
   "execution_count": 30,
   "metadata": {},
   "outputs": [
    {
     "data": {
      "text/plain": [
       "0          6303022901\n",
       "1          6303022901\n",
       "2          6303022901\n",
       "3          6303022901\n",
       "4          6303022901\n",
       "              ...    \n",
       "2742455    B01HJ3E0PQ\n",
       "2742456    B01HJ6R77G\n",
       "2742457    B01HJ6R77G\n",
       "2742458    B01HJCCLOY\n",
       "2742459    B01HJCCLOY\n",
       "Name: asin, Length: 2742460, dtype: object"
      ]
     },
     "execution_count": 30,
     "metadata": {},
     "output_type": "execute_result"
    }
   ],
   "source": [
    "df_mtv.asin"
   ]
  },
  {
   "cell_type": "code",
   "execution_count": 31,
   "metadata": {},
   "outputs": [],
   "source": [
    "df_mtv = df_mtv.drop(['verified', 'rank', 'also_buy', 'also_view', 'details'], axis=1)\n",
    "\n",
    "df_mtv = df_mtv.rename(columns={'overall':'rating', 'asin':'productID'})"
   ]
  },
  {
   "cell_type": "code",
   "execution_count": 32,
   "metadata": {},
   "outputs": [
    {
     "data": {
      "text/plain": [
       "(2742460, 19)"
      ]
     },
     "execution_count": 32,
     "metadata": {},
     "output_type": "execute_result"
    }
   ],
   "source": [
    "df_mtv.shape"
   ]
  },
  {
   "cell_type": "code",
   "execution_count": 33,
   "metadata": {},
   "outputs": [
    {
     "data": {
      "text/html": [
       "<div>\n",
       "<style scoped>\n",
       "    .dataframe tbody tr th:only-of-type {\n",
       "        vertical-align: middle;\n",
       "    }\n",
       "\n",
       "    .dataframe tbody tr th {\n",
       "        vertical-align: top;\n",
       "    }\n",
       "\n",
       "    .dataframe thead th {\n",
       "        text-align: right;\n",
       "    }\n",
       "</style>\n",
       "<table border=\"1\" class=\"dataframe\">\n",
       "  <thead>\n",
       "    <tr style=\"text-align: right;\">\n",
       "      <th></th>\n",
       "      <th>rating</th>\n",
       "      <th>reviewTime</th>\n",
       "      <th>reviewerID</th>\n",
       "      <th>productID</th>\n",
       "      <th>style</th>\n",
       "      <th>reviewerName</th>\n",
       "      <th>reviewText</th>\n",
       "      <th>summary</th>\n",
       "      <th>unixReviewTime</th>\n",
       "      <th>vote</th>\n",
       "      <th>category</th>\n",
       "      <th>description</th>\n",
       "      <th>fit</th>\n",
       "      <th>title</th>\n",
       "      <th>tech2</th>\n",
       "      <th>brand</th>\n",
       "      <th>main_cat</th>\n",
       "      <th>similar_item</th>\n",
       "      <th>price</th>\n",
       "    </tr>\n",
       "  </thead>\n",
       "  <tbody>\n",
       "    <tr>\n",
       "      <th>0</th>\n",
       "      <td>5.0</td>\n",
       "      <td>04 8, 2018</td>\n",
       "      <td>A1CW3NLH9MBQRY</td>\n",
       "      <td>6303022901</td>\n",
       "      <td>{'Format:': ' DVD'}</td>\n",
       "      <td>Sally Nunez</td>\n",
       "      <td>I really enjoyed this movie. Brings tears to m...</td>\n",
       "      <td>Five Stars</td>\n",
       "      <td>1523145600</td>\n",
       "      <td>NaN</td>\n",
       "      <td>['Movies &amp; TV', 'Genre for Featured Categories...</td>\n",
       "      <td>['Produced by Academy Award(R)-winning filmmak...</td>\n",
       "      <td>NaN</td>\n",
       "      <td>The Joy Luck Club VHS</td>\n",
       "      <td>NaN</td>\n",
       "      <td>Tamlyn Tomita</td>\n",
       "      <td>Movies &amp; TV</td>\n",
       "      <td>NaN</td>\n",
       "      <td>$3.28</td>\n",
       "    </tr>\n",
       "    <tr>\n",
       "      <th>1</th>\n",
       "      <td>5.0</td>\n",
       "      <td>04 2, 2018</td>\n",
       "      <td>A1WK0IRZ08NX9X</td>\n",
       "      <td>6303022901</td>\n",
       "      <td>{'Format:': ' DVD'}</td>\n",
       "      <td>Ammie28</td>\n",
       "      <td>If you have never seen this movie, you may jus...</td>\n",
       "      <td>Heart Touching...</td>\n",
       "      <td>1522627200</td>\n",
       "      <td>NaN</td>\n",
       "      <td>['Movies &amp; TV', 'Genre for Featured Categories...</td>\n",
       "      <td>['Produced by Academy Award(R)-winning filmmak...</td>\n",
       "      <td>NaN</td>\n",
       "      <td>The Joy Luck Club VHS</td>\n",
       "      <td>NaN</td>\n",
       "      <td>Tamlyn Tomita</td>\n",
       "      <td>Movies &amp; TV</td>\n",
       "      <td>NaN</td>\n",
       "      <td>$3.28</td>\n",
       "    </tr>\n",
       "    <tr>\n",
       "      <th>2</th>\n",
       "      <td>5.0</td>\n",
       "      <td>03 30, 2018</td>\n",
       "      <td>A2HGXJQCQTXE4E</td>\n",
       "      <td>6303022901</td>\n",
       "      <td>{'Format:': ' Blu-ray'}</td>\n",
       "      <td>Pa nhia lee</td>\n",
       "      <td>awesome all time fave movie.</td>\n",
       "      <td>Five Stars</td>\n",
       "      <td>1522368000</td>\n",
       "      <td>NaN</td>\n",
       "      <td>['Movies &amp; TV', 'Genre for Featured Categories...</td>\n",
       "      <td>['Produced by Academy Award(R)-winning filmmak...</td>\n",
       "      <td>NaN</td>\n",
       "      <td>The Joy Luck Club VHS</td>\n",
       "      <td>NaN</td>\n",
       "      <td>Tamlyn Tomita</td>\n",
       "      <td>Movies &amp; TV</td>\n",
       "      <td>NaN</td>\n",
       "      <td>$3.28</td>\n",
       "    </tr>\n",
       "    <tr>\n",
       "      <th>3</th>\n",
       "      <td>5.0</td>\n",
       "      <td>03 30, 2018</td>\n",
       "      <td>A14ASTA78EK120</td>\n",
       "      <td>6303022901</td>\n",
       "      <td>{'Format:': ' DVD'}</td>\n",
       "      <td>lalush</td>\n",
       "      <td>The greatest movie ever!!!!!</td>\n",
       "      <td>Five Stars</td>\n",
       "      <td>1522368000</td>\n",
       "      <td>NaN</td>\n",
       "      <td>['Movies &amp; TV', 'Genre for Featured Categories...</td>\n",
       "      <td>['Produced by Academy Award(R)-winning filmmak...</td>\n",
       "      <td>NaN</td>\n",
       "      <td>The Joy Luck Club VHS</td>\n",
       "      <td>NaN</td>\n",
       "      <td>Tamlyn Tomita</td>\n",
       "      <td>Movies &amp; TV</td>\n",
       "      <td>NaN</td>\n",
       "      <td>$3.28</td>\n",
       "    </tr>\n",
       "    <tr>\n",
       "      <th>4</th>\n",
       "      <td>5.0</td>\n",
       "      <td>03 29, 2018</td>\n",
       "      <td>A2EGT1RXKVOXTJ</td>\n",
       "      <td>6303022901</td>\n",
       "      <td>{'Format:': ' Amazon Video'}</td>\n",
       "      <td>Karin</td>\n",
       "      <td>Love this movie</td>\n",
       "      <td>Five Stars</td>\n",
       "      <td>1522281600</td>\n",
       "      <td>NaN</td>\n",
       "      <td>['Movies &amp; TV', 'Genre for Featured Categories...</td>\n",
       "      <td>['Produced by Academy Award(R)-winning filmmak...</td>\n",
       "      <td>NaN</td>\n",
       "      <td>The Joy Luck Club VHS</td>\n",
       "      <td>NaN</td>\n",
       "      <td>Tamlyn Tomita</td>\n",
       "      <td>Movies &amp; TV</td>\n",
       "      <td>NaN</td>\n",
       "      <td>$3.28</td>\n",
       "    </tr>\n",
       "  </tbody>\n",
       "</table>\n",
       "</div>"
      ],
      "text/plain": [
       "   rating   reviewTime      reviewerID   productID  \\\n",
       "0     5.0   04 8, 2018  A1CW3NLH9MBQRY  6303022901   \n",
       "1     5.0   04 2, 2018  A1WK0IRZ08NX9X  6303022901   \n",
       "2     5.0  03 30, 2018  A2HGXJQCQTXE4E  6303022901   \n",
       "3     5.0  03 30, 2018  A14ASTA78EK120  6303022901   \n",
       "4     5.0  03 29, 2018  A2EGT1RXKVOXTJ  6303022901   \n",
       "\n",
       "                          style reviewerName  \\\n",
       "0           {'Format:': ' DVD'}  Sally Nunez   \n",
       "1           {'Format:': ' DVD'}      Ammie28   \n",
       "2       {'Format:': ' Blu-ray'}  Pa nhia lee   \n",
       "3           {'Format:': ' DVD'}       lalush   \n",
       "4  {'Format:': ' Amazon Video'}       Karin    \n",
       "\n",
       "                                          reviewText            summary  \\\n",
       "0  I really enjoyed this movie. Brings tears to m...         Five Stars   \n",
       "1  If you have never seen this movie, you may jus...  Heart Touching...   \n",
       "2                       awesome all time fave movie.         Five Stars   \n",
       "3                       The greatest movie ever!!!!!         Five Stars   \n",
       "4                                    Love this movie         Five Stars   \n",
       "\n",
       "   unixReviewTime vote                                           category  \\\n",
       "0      1523145600  NaN  ['Movies & TV', 'Genre for Featured Categories...   \n",
       "1      1522627200  NaN  ['Movies & TV', 'Genre for Featured Categories...   \n",
       "2      1522368000  NaN  ['Movies & TV', 'Genre for Featured Categories...   \n",
       "3      1522368000  NaN  ['Movies & TV', 'Genre for Featured Categories...   \n",
       "4      1522281600  NaN  ['Movies & TV', 'Genre for Featured Categories...   \n",
       "\n",
       "                                         description  fit  \\\n",
       "0  ['Produced by Academy Award(R)-winning filmmak...  NaN   \n",
       "1  ['Produced by Academy Award(R)-winning filmmak...  NaN   \n",
       "2  ['Produced by Academy Award(R)-winning filmmak...  NaN   \n",
       "3  ['Produced by Academy Award(R)-winning filmmak...  NaN   \n",
       "4  ['Produced by Academy Award(R)-winning filmmak...  NaN   \n",
       "\n",
       "                   title  tech2          brand     main_cat  similar_item  \\\n",
       "0  The Joy Luck Club VHS    NaN  Tamlyn Tomita  Movies & TV           NaN   \n",
       "1  The Joy Luck Club VHS    NaN  Tamlyn Tomita  Movies & TV           NaN   \n",
       "2  The Joy Luck Club VHS    NaN  Tamlyn Tomita  Movies & TV           NaN   \n",
       "3  The Joy Luck Club VHS    NaN  Tamlyn Tomita  Movies & TV           NaN   \n",
       "4  The Joy Luck Club VHS    NaN  Tamlyn Tomita  Movies & TV           NaN   \n",
       "\n",
       "   price  \n",
       "0  $3.28  \n",
       "1  $3.28  \n",
       "2  $3.28  \n",
       "3  $3.28  \n",
       "4  $3.28  "
      ]
     },
     "execution_count": 33,
     "metadata": {},
     "output_type": "execute_result"
    }
   ],
   "source": [
    "df_mtv.head()"
   ]
  },
  {
   "cell_type": "code",
   "execution_count": 39,
   "metadata": {},
   "outputs": [
    {
     "data": {
      "text/plain": [
       "Text(0, 0.5, 'Count')"
      ]
     },
     "execution_count": 39,
     "metadata": {},
     "output_type": "execute_result"
    },
    {
     "data": {
      "image/png": "[encoded data removed]",
      "text/plain": [
       "<Figure size 1000x500 with 1 Axes>"
      ]
     },
     "metadata": {},
     "output_type": "display_data"
    }
   ],
   "source": [
    "import seaborn as sns\n",
    "\n",
    "sns.set(context = 'notebook', style = 'whitegrid', font_scale=1)\n",
    "plt.figure(figsize = (10, 5))\n",
    "ax = sns.countplot(x=\"rating\", data=df_mtv, alpha=1)\n",
    "\n",
    "plt.title(\"Distribution of Ratings\")\n",
    "plt.xlabel(\"Ratings\", fontsize = 20, labelpad=15)\n",
    "plt.ylabel(\"Count\", fontsize = 20,labelpad=20)"
   ]
  },
  {
   "cell_type": "code",
   "execution_count": 78,
   "metadata": {},
   "outputs": [
    {
     "data": {
      "text/plain": [
       "reviewerID\n",
       "A1L2DLWYRNHKDR          487\n",
       "A1NSDP9YZXLMDX          455\n",
       "A2YUA3H1LLU53Z          419\n",
       "A3DZT870KCFD1           377\n",
       "A1BT9J2I6DC246          327\n",
       "                       ... \n",
       "A38AP2M7YHO0BF            1\n",
       "A38AOWGK4NV9H8            1\n",
       "A38AORJDS6WWVV            1\n",
       "A38AOLYO6WH0FM            1\n",
       "A00013803RVZPCZKTT9U      1\n",
       "Name: rating, Length: 1400661, dtype: int64"
      ]
     },
     "execution_count": 78,
     "metadata": {},
     "output_type": "execute_result"
    }
   ],
   "source": [
    "# Reviewer's rating counts\n",
    "reviewer_count = df_mtv.groupby('reviewerID')['rating'].count()\n",
    "\n",
    "# Productwise rating counts\n",
    "product_count = df_mtv.groupby('title')['rating'].count()\n",
    "\n",
    "# \n",
    "reviewer_count.sort_values(ascending = False)"
   ]
  },
  {
   "cell_type": "code",
   "execution_count": 76,
   "metadata": {},
   "outputs": [
    {
     "name": "stdout",
     "output_type": "stream",
     "text": [
      "Total number of reviewers in 2016-2018:  1400661\n",
      "Top 20 reviewers:  reviewerID\n",
      "A1L2DLWYRNHKDR    487\n",
      "A1NSDP9YZXLMDX    455\n",
      "A2YUA3H1LLU53Z    419\n",
      "A3DZT870KCFD1     377\n",
      "A1BT9J2I6DC246    327\n",
      "AJ2LH4FFW4QYX     300\n",
      "A3EMYILKQKEON7    273\n",
      "AE48173ASWFYI     259\n",
      "A30M9ME5AT8K12    237\n",
      "A3I4C4LS3ID7Y4    235\n",
      "A1TA5QYECZP1L1    224\n",
      "A3LDO43KPFU9I4    215\n",
      "A2K4PH68WESPT4    192\n",
      "A3F8RN37P4WLNH    188\n",
      "AIMR915K4YCN      185\n",
      "A20J989QAU0H67    185\n",
      "A2TV03ELEWRXAL    184\n",
      "A16P7VIXBJC56H    182\n",
      "A1Y09QLADQYQJG    180\n",
      "A2NP5ONODHBGDU    176\n",
      "Name: rating, dtype: int64\n"
     ]
    }
   ],
   "source": [
    "top_reviewers = reviewer_count.sort_values(ascending=False)[:20]\n",
    "count_reviewers = len(reviewer_count)\n",
    "print(\"Total number of reviewers in 2016-2018: \", count_reviewers)\n",
    "print('Top 20 reviewers: ',top_reviewers)"
   ]
  },
  {
   "cell_type": "code",
   "execution_count": 80,
   "metadata": {},
   "outputs": [
    {
     "name": "stdout",
     "output_type": "stream",
     "text": [
      "Total number of products reviewed in 2016-2018:  1400661\n",
      "Top 20 products reviews:  title\n",
      "Band Of Brothers (DVD)                                             21454\n",
      "Doctor Thorne - Season 1 2015                                      20558\n",
      "The Martian                                                        14101\n",
      "Bone Tomahawk                                                      12864\n",
      "The Wire: Season 1                                                 11142\n",
      "Downton Abbey                                                      10879\n",
      "Band of Brothers(Elite SC/BD+DCExp12-21)                           10828\n",
      "Ex Machina 2015                                                     8858\n",
      "Remember                                                            7960\n",
      "24: Season 1                                                        7684\n",
      "The Big Lebowski VHS                                                7636\n",
      "The Boondock Saints                                                 7632\n",
      "The Hunger Games: Mockingjay Part 1 2015                            7629\n",
      "Terminator Genisys                                                  7452\n",
      "The Captive Ryan Reynolds, Scott Speedman, Rosario Dawson (DVD)     7267\n",
      "Moodtapes: Pacific Surf                                             7068\n",
      "Orphan Black: Season 3                                              6878\n",
      "John Adams                                                          6825\n",
      "Trumbo                                                              6766\n",
      "Walking Dead, The Ssn 5                                             6688\n",
      "Name: rating, dtype: int64\n"
     ]
    }
   ],
   "source": [
    "top_products = product_count.sort_values(ascending=False)[:20]\n",
    "count_products = len(reviewer_count)\n",
    "print(\"Total number of products reviewed in 2016-2018: \", count_products)\n",
    "print('Top 20 products reviews: ',top_products)"
   ]
  },
  {
   "cell_type": "code",
   "execution_count": 81,
   "metadata": {},
   "outputs": [
    {
     "data": {
      "image/png": "[encoded data removed]",
      "text/plain": [
       "<Figure size 1000x500 with 1 Axes>"
      ]
     },
     "metadata": {},
     "output_type": "display_data"
    }
   ],
   "source": [
    "fig = plt.figure(figsize = (10, 5))\n",
    "axes = fig.add_axes([0.1,0.1,1,1])\n",
    "# plt.title(\"Number of Ratings Per Movie\", fontsize = 20)\n",
    "plt.xlabel(\"Movies\", fontsize = 25, labelpad=20)\n",
    "plt.ylabel(\"Number of Ratings\", fontsize = 25, labelpad=20)\n",
    "plt.plot(reviewer_count.sort_values(ascending = False).values, color='#eb5e68', linewidth=3)\n",
    "plt.tick_params(labelsize = 20)\n"
   ]
  },
  {
   "cell_type": "code",
   "execution_count": null,
   "metadata": {},
   "outputs": [],
   "source": []
  }
 ],
 "metadata": {
  "kernelspec": {
   "display_name": "Python 3",
   "language": "python",
   "name": "python3"
  },
  "language_info": {
   "codemirror_mode": {
    "name": "ipython",
    "version": 3
   },
   "file_extension": ".py",
   "mimetype": "text/x-python",
   "name": "python",
   "nbconvert_exporter": "python",
   "pygments_lexer": "ipython3",
   "version": "3.8.5"
  }
 },
 "nbformat": 4,
 "nbformat_minor": 4
}
